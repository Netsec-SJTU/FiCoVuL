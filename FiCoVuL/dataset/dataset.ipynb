{
 "cells": [
  {
   "cell_type": "code",
   "execution_count": 8,
   "metadata": {
    "collapsed": true
   },
   "outputs": [],
   "source": [
    "import os\n",
    "import json\n",
    "import uuid\n",
    "\n",
    "def json_read(path):\n",
    "    with open(path, 'r') as fp:\n",
    "        data = json.load(fp)\n",
    "    return data\n",
    "\n",
    "def json_dump(obj, path):\n",
    "    with open(path, 'w') as fp:\n",
    "        json.dump(obj, fp)\n",
    "\n",
    "dataset_path = '/home/huanghongjun/FiCoVuL/FiCoVuL/data/datasets/DEPTH_RAW'\n",
    "orig_path = '/home/huanghongjun/FiCoVuL/FiCoVuL/data/datasets/DEPTH_ORIG'\n",
    "doxygen_json_path = '/home/huanghongjun/FiCoVuL/FiCoVuL/data/datasets/DEPTH_DOXYGEN_JSON'\n",
    "result_path = '/home/huanghongjun/FiCoVuL/FiCoVuL/data/datasets/DEPTH_SINGULAR'\n",
    "for split in ('train', 'valid', 'test'):\n",
    "    dataset0 = json_read(os.path.join(dataset_path, f'{split}.json'))\n",
    "    files = dataset0['graph_id_index']\n",
    "    del dataset0\n",
    "    files = list(map(lambda x: '-'.join(x.split('-')[:5])+'.json', files))\n",
    "    def read_doxygen_json(fid):\n",
    "        content = json_read(os.path.join(orig_path, fid))\n",
    "        f = content['origin_path'].split('/')[-1]\n",
    "        f = os.path.join(doxygen_json_path, f)\n",
    "        content = json_read(f)\n",
    "        functions = content['functions']\n",
    "        mmap = {}\n",
    "        for function in functions.keys():\n",
    "            random_id = str(uuid.uuid4())\n",
    "            func = functions[function]\n",
    "            with open(os.path.join(result_path, split, f\"{random_id}.c\"), 'w') as f:\n",
    "                code = func['code']\n",
    "                f.write(code)\n",
    "            annotation = {\n",
    "                \"origin_path\": fid,\n",
    "                \"function_name\": function,  # result 添加，replace\n",
    "                \"class\": func['cwe_ids'],  # result 添加 extend\n",
    "                \"call_path\": None,  # result 添加，extend\n",
    "                \"depth\": 0,  # result 添加，int\n",
    "                \"label\": int(func['label']) if func['label'] is not None else 0,  # result 添加，0/1/null（不用特殊考虑）\n",
    "                \"roi\": func['lois'],  # result 添加，replace\n",
    "            }\n",
    "            json_dump(annotation, os.path.join(result_path, split, f\"{random_id}.json\"))\n",
    "            mmap[function] = random_id\n",
    "        temp = list(map(lambda x: list(map(mmap.get, x)), content['call_path']))\n",
    "        json_dump(temp, os.path.join(result_path, split, 'annotations', f'{fid}.json'))\n",
    "    list(map(read_doxygen_json, files))"
   ]
  },
  {
   "cell_type": "code",
   "execution_count": 3,
   "metadata": {
    "collapsed": false,
    "pycharm": {
     "name": "#%%\n"
    }
   },
   "outputs": [],
   "source": []
  },
  {
   "cell_type": "code",
   "execution_count": null,
   "metadata": {
    "collapsed": false,
    "pycharm": {
     "name": "#%%\n"
    }
   },
   "outputs": [],
   "source": []
  }
 ],
 "metadata": {
  "kernelspec": {
   "display_name": "Python 3",
   "language": "python",
   "name": "python3"
  },
  "language_info": {
   "codemirror_mode": {
    "name": "ipython",
    "version": 3
   },
   "file_extension": ".py",
   "mimetype": "text/x-python",
   "name": "python",
   "nbconvert_exporter": "python",
   "pygments_lexer": "ipython3",
   "version": "3.9.15"
  }
 },
 "nbformat": 4,
 "nbformat_minor": 0
}
